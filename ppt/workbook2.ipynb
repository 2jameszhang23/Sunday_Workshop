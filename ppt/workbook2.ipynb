{
 "cells": [
  {
   "cell_type": "markdown",
   "id": "4f92ed52-b844-4c7c-ae9b-ce660a115d9e",
   "metadata": {},
   "source": [
    "Sec 1. Input, output, variables, Assign a value"
   ]
  },
  {
   "cell_type": "code",
   "execution_count": 18,
   "id": "a59c7f79-64e6-4a27-9a3a-e9c0f7e4eda2",
   "metadata": {},
   "outputs": [
    {
     "name": "stdout",
     "output_type": "stream",
     "text": [
      "hello,world!\n"
     ]
    }
   ],
   "source": [
    "#output\n",
    "print('hello,world!')"
   ]
  },
  {
   "cell_type": "code",
   "execution_count": 19,
   "id": "1a0e1100-79a1-4853-a1e3-d577b65cf231",
   "metadata": {},
   "outputs": [
    {
     "name": "stdin",
     "output_type": "stream",
     "text": [
      "please type your name Jamie Zhang\n"
     ]
    },
    {
     "name": "stdout",
     "output_type": "stream",
     "text": [
      "Jamie Zhang\n"
     ]
    }
   ],
   "source": [
    "#input\n",
    "a=input('please type your name')\n",
    "print(a)"
   ]
  },
  {
   "cell_type": "code",
   "execution_count": 21,
   "id": "9d8a116f-6b3c-4b82-a289-cd544a277f81",
   "metadata": {},
   "outputs": [
    {
     "name": "stdout",
     "output_type": "stream",
     "text": [
      "1\n"
     ]
    }
   ],
   "source": [
    "#Assign a value\n",
    "a=None\n",
    "a=1\n",
    "print(a)"
   ]
  },
  {
   "cell_type": "code",
   "execution_count": 22,
   "id": "326938be-9f2c-45c1-8805-5439ae59cb54",
   "metadata": {},
   "outputs": [],
   "source": [
    "#Different types of variables\n",
    "a=None\n",
    "b=1\n",
    "c=1.0\n",
    "d='Jamie Zhang'\n",
    "e=True"
   ]
  },
  {
   "cell_type": "code",
   "execution_count": 44,
   "id": "54f718b5-d93f-4755-91de-585bd8568680",
   "metadata": {},
   "outputs": [
    {
     "data": {
      "text/plain": [
       "1"
      ]
     },
     "execution_count": 44,
     "metadata": {},
     "output_type": "execute_result"
    }
   ],
   "source": [
    "a=1.7\n",
    "int(a)"
   ]
  },
  {
   "cell_type": "code",
   "execution_count": 45,
   "id": "5df7827b-b2d8-4671-8061-90073799607c",
   "metadata": {},
   "outputs": [
    {
     "data": {
      "text/plain": [
       "1"
      ]
     },
     "execution_count": 45,
     "metadata": {},
     "output_type": "execute_result"
    }
   ],
   "source": [
    "a=True\n",
    "int(a)"
   ]
  },
  {
   "cell_type": "code",
   "execution_count": 46,
   "id": "03f3e0bb-4cc5-4488-94e0-53bed82ef7c3",
   "metadata": {},
   "outputs": [
    {
     "data": {
      "text/plain": [
       "1.0"
      ]
     },
     "execution_count": 46,
     "metadata": {},
     "output_type": "execute_result"
    }
   ],
   "source": [
    "a=1\n",
    "float(a)"
   ]
  },
  {
   "cell_type": "code",
   "execution_count": 48,
   "id": "6e890653-bde1-4c01-8042-5702fdbb761c",
   "metadata": {},
   "outputs": [
    {
     "data": {
      "text/plain": [
       "'1'"
      ]
     },
     "execution_count": 48,
     "metadata": {},
     "output_type": "execute_result"
    }
   ],
   "source": [
    "a=1\n",
    "str(1)"
   ]
  },
  {
   "cell_type": "code",
   "execution_count": 23,
   "id": "c37b7b24-6f9e-4c90-81b4-fc63d3d0b8b3",
   "metadata": {},
   "outputs": [
    {
     "name": "stdout",
     "output_type": "stream",
     "text": [
      "The ASCII value of 'A' is 65.\n"
     ]
    }
   ],
   "source": [
    "#ASCII\n",
    "char = 'A'\n",
    "ascii_value = ord(char)\n",
    "print(f\"The ASCII value of '{char}' is {ascii_value}.\")"
   ]
  },
  {
   "cell_type": "code",
   "execution_count": 25,
   "id": "b40fcab1-ad0a-40ac-827f-950c0a414f54",
   "metadata": {},
   "outputs": [
    {
     "name": "stdout",
     "output_type": "stream",
     "text": [
      "The character for ASCII code 65 is 'A'.\n"
     ]
    }
   ],
   "source": [
    "ascii_code = 65\n",
    "char = chr(ascii_code)\n",
    "print(f\"The character for ASCII code {ascii_code} is '{char}'.\")"
   ]
  },
  {
   "cell_type": "code",
   "execution_count": 41,
   "id": "b587c085-ad0f-4544-9b25-6b3e52e018ea",
   "metadata": {},
   "outputs": [],
   "source": [
    "#Think about this:\n",
    "#1. In ASCII we use 8 bits to store. So if we transform number larger than 128, what would happen?\n",
    "#2.Is the boolean and string version of 'true' the same?\n",
    "#3. Try to write some input&output codes."
   ]
  },
  {
   "cell_type": "code",
   "execution_count": null,
   "id": "24f847b4-9f4a-433b-a702-7c8f003fcae1",
   "metadata": {},
   "outputs": [],
   "source": [
    "#Create a variable named age and assign it the value 25. Then, create another variable named name and assign it your name. Print both variables in a single line separated by a space."
   ]
  },
  {
   "cell_type": "code",
   "execution_count": null,
   "id": "c5d3181d-5505-4e96-bee9-fbb660200f2e",
   "metadata": {},
   "outputs": [],
   "source": [
    "#Swap the values of two variables x and y without using a temporary variable. Initially, set x = 10 and y = 20. After swapping, x should be 20 and y should be 10. Print the values \n",
    "#before and after swapping."
   ]
  },
  {
   "cell_type": "code",
   "execution_count": null,
   "id": "6c7edf2c-29e1-4b0d-a8bb-69173735703f",
   "metadata": {},
   "outputs": [],
   "source": [
    "#Convert the integer 123 to a string and concatenate it with the string \"456\". Print the resulting string."
   ]
  },
  {
   "cell_type": "code",
   "execution_count": null,
   "id": "d5591985-c541-4027-b765-358286cab3ba",
   "metadata": {},
   "outputs": [],
   "source": [
    "#Write a program that takes a user input as a string, converts it to an integer, adds 10 to this number, and then prints the result."
   ]
  },
  {
   "cell_type": "code",
   "execution_count": null,
   "id": "110de162-4506-44a4-979b-749c5b6ee1c4",
   "metadata": {},
   "outputs": [],
   "source": [
    "#Assign the value 100 to a variable a, and then assign the value of a plus 50 to variable b. Print both a and b."
   ]
  },
  {
   "cell_type": "code",
   "execution_count": null,
   "id": "84674569-5040-434f-9595-2e49d50d3a0b",
   "metadata": {},
   "outputs": [],
   "source": [
    "#Write a program that asks the user for their favorite color and then prints a message saying \"Your favorite color is [color]\"."
   ]
  },
  {
   "cell_type": "code",
   "execution_count": null,
   "id": "579aa2d1-e0a3-4adb-87cd-d3723320f712",
   "metadata": {},
   "outputs": [],
   "source": [
    "#Create a program that takes two inputs from the user: their first name and last name. Then, greet them with their full name."
   ]
  },
  {
   "cell_type": "code",
   "execution_count": null,
   "id": "23dd4d55-274f-4f3c-9aeb-5d48aa8623ac",
   "metadata": {},
   "outputs": [],
   "source": [
    "#Write a program that takes an ASCII value (integer) as input and prints the corresponding character."
   ]
  },
  {
   "cell_type": "markdown",
   "id": "3c312efc-4217-415e-a410-c991c96c61a5",
   "metadata": {},
   "source": [
    "Sec 2. Operations"
   ]
  },
  {
   "cell_type": "code",
   "execution_count": 49,
   "id": "fe1629d0-84be-4b79-a792-d17a645fa3fa",
   "metadata": {},
   "outputs": [
    {
     "data": {
      "text/plain": [
       "3"
      ]
     },
     "execution_count": 49,
     "metadata": {},
     "output_type": "execute_result"
    }
   ],
   "source": [
    "a=1\n",
    "b=2\n",
    "c=1+2\n",
    "c"
   ]
  },
  {
   "cell_type": "code",
   "execution_count": 50,
   "id": "93bb1c60-c796-4b1c-aca3-4dddcc96830f",
   "metadata": {},
   "outputs": [],
   "source": [
    "#+,-,*,/,%,//,**"
   ]
  },
  {
   "cell_type": "code",
   "execution_count": 52,
   "id": "29373d83-fe4b-4ff9-b95e-48c5c02d2f91",
   "metadata": {},
   "outputs": [
    {
     "data": {
      "text/plain": [
       "2"
      ]
     },
     "execution_count": 52,
     "metadata": {},
     "output_type": "execute_result"
    }
   ],
   "source": [
    "a+=1\n",
    "a"
   ]
  },
  {
   "cell_type": "code",
   "execution_count": 53,
   "id": "8fa22887-9620-4e22-ab58-413516c506ba",
   "metadata": {},
   "outputs": [],
   "source": [
    "#+=,-=,/=,*=,%=,//=,**="
   ]
  },
  {
   "cell_type": "code",
   "execution_count": 54,
   "id": "a50bf01b-4a6f-4117-9d2a-93d4fff0d355",
   "metadata": {},
   "outputs": [
    {
     "data": {
      "text/plain": [
       "False"
      ]
     },
     "execution_count": 54,
     "metadata": {},
     "output_type": "execute_result"
    }
   ],
   "source": [
    "5>10"
   ]
  },
  {
   "cell_type": "code",
   "execution_count": 55,
   "id": "1b63337b-034b-4b36-a34c-8d6ff90e1de7",
   "metadata": {},
   "outputs": [],
   "source": [
    "#>,<,=,>=,<="
   ]
  },
  {
   "cell_type": "code",
   "execution_count": 58,
   "id": "dd7db545-4a25-4345-a5fc-10e72b1951be",
   "metadata": {},
   "outputs": [
    {
     "data": {
      "text/plain": [
       "False"
      ]
     },
     "execution_count": 58,
     "metadata": {},
     "output_type": "execute_result"
    }
   ],
   "source": [
    "(1>2) and (2>1)"
   ]
  },
  {
   "cell_type": "code",
   "execution_count": 59,
   "id": "8244dbf7-6e24-4625-8147-abea258ed721",
   "metadata": {},
   "outputs": [
    {
     "data": {
      "text/plain": [
       "True"
      ]
     },
     "execution_count": 59,
     "metadata": {},
     "output_type": "execute_result"
    }
   ],
   "source": [
    "(1>2) or (2>1)"
   ]
  },
  {
   "cell_type": "code",
   "execution_count": 60,
   "id": "aa7ed2cc-fff7-4af7-acac-70f8dba068af",
   "metadata": {},
   "outputs": [
    {
     "data": {
      "text/plain": [
       "False"
      ]
     },
     "execution_count": 60,
     "metadata": {},
     "output_type": "execute_result"
    }
   ],
   "source": [
    "not (2>1)"
   ]
  },
  {
   "cell_type": "code",
   "execution_count": null,
   "id": "596dbb7b-588f-4b6b-b3c1-b09edbc0cdf5",
   "metadata": {},
   "outputs": [],
   "source": [
    "#Write a program that takes two numbers as input and prints their sum, difference, product, and quotient."
   ]
  },
  {
   "cell_type": "code",
   "execution_count": null,
   "id": "a56df9f9-ffee-4e92-9d23-cbd96839b395",
   "metadata": {},
   "outputs": [],
   "source": [
    "#Calculate the area of a circle. Ask the user to input the radius, then calculate and print the area. Use 3.14 for π."
   ]
  },
  {
   "cell_type": "code",
   "execution_count": null,
   "id": "c5f929cb-c970-43bb-bcf1-c2fbb1c75f6d",
   "metadata": {},
   "outputs": [],
   "source": [
    "#Write a program that takes two boolean inputs from the user (True or False) and prints the result of their AND, OR, and NOT operations."
   ]
  },
  {
   "cell_type": "code",
   "execution_count": null,
   "id": "294dacce-1cf6-4d6d-a4cb-9481f17c1633",
   "metadata": {},
   "outputs": [],
   "source": [
    "#Create a program that checks if a number entered by the user is both even and greater than 10. Print True if both conditions are met, otherwise print False."
   ]
  },
  {
   "cell_type": "markdown",
   "id": "96e5fbdd-5e76-4b69-9e56-595829f5ff6c",
   "metadata": {},
   "source": [
    "sec 3. basic data structure"
   ]
  },
  {
   "cell_type": "code",
   "execution_count": 61,
   "id": "cc258361-c5de-458a-a33e-e4b6d5976ce2",
   "metadata": {},
   "outputs": [],
   "source": [
    "#list\n",
    "a=[0,1,2,3,4,5]"
   ]
  },
  {
   "cell_type": "code",
   "execution_count": 63,
   "id": "1e83dba1-1cd1-4e5d-917d-d9a3bd086081",
   "metadata": {},
   "outputs": [
    {
     "data": {
      "text/plain": [
       "0"
      ]
     },
     "execution_count": 63,
     "metadata": {},
     "output_type": "execute_result"
    }
   ],
   "source": [
    "a[0]"
   ]
  },
  {
   "cell_type": "code",
   "execution_count": 62,
   "id": "79b256cd-4ba5-41cd-9c25-3fdad38523c7",
   "metadata": {},
   "outputs": [
    {
     "data": {
      "text/plain": [
       "[1, 2, 3]"
      ]
     },
     "execution_count": 62,
     "metadata": {},
     "output_type": "execute_result"
    }
   ],
   "source": [
    "a[1:4]"
   ]
  },
  {
   "cell_type": "code",
   "execution_count": 64,
   "id": "bab89f52-6926-4906-ac73-add0b960fd64",
   "metadata": {},
   "outputs": [
    {
     "data": {
      "text/plain": [
       "[1, 2, 3, 4, 5]"
      ]
     },
     "execution_count": 64,
     "metadata": {},
     "output_type": "execute_result"
    }
   ],
   "source": [
    "a[1:]"
   ]
  },
  {
   "cell_type": "code",
   "execution_count": 65,
   "id": "28d4585b-ee02-46f4-84c5-9f1096efbdc0",
   "metadata": {},
   "outputs": [
    {
     "data": {
      "text/plain": [
       "[0, 1, 2, 3]"
      ]
     },
     "execution_count": 65,
     "metadata": {},
     "output_type": "execute_result"
    }
   ],
   "source": [
    "a[:4]"
   ]
  },
  {
   "cell_type": "code",
   "execution_count": 66,
   "id": "fe98f9cb-6581-4419-b0ee-3cf57605c662",
   "metadata": {},
   "outputs": [
    {
     "data": {
      "text/plain": [
       "[4, 5]"
      ]
     },
     "execution_count": 66,
     "metadata": {},
     "output_type": "execute_result"
    }
   ],
   "source": [
    "a[-2:]"
   ]
  },
  {
   "cell_type": "code",
   "execution_count": 69,
   "id": "ba718243-5e16-45de-ba7d-b135c286c0b1",
   "metadata": {},
   "outputs": [
    {
     "data": {
      "text/plain": [
       "[1, 3]"
      ]
     },
     "execution_count": 69,
     "metadata": {},
     "output_type": "execute_result"
    }
   ],
   "source": [
    "a[1:4:2]"
   ]
  },
  {
   "cell_type": "code",
   "execution_count": 70,
   "id": "b67cf125-8c76-4854-9e73-5d2b0126c638",
   "metadata": {},
   "outputs": [
    {
     "name": "stdout",
     "output_type": "stream",
     "text": [
      "[0, 1, 2, 3, 2, 3, 4, 5]\n"
     ]
    }
   ],
   "source": [
    "a=[0,1,2,3]\n",
    "b=[2,3,4,5]\n",
    "print(a+b)"
   ]
  },
  {
   "cell_type": "code",
   "execution_count": 72,
   "id": "9a4d2ad8-0fd8-43e3-8bc9-a738c6fbc452",
   "metadata": {},
   "outputs": [
    {
     "name": "stdout",
     "output_type": "stream",
     "text": [
      "[0, 1, 2, 3, 0, 1, 2, 3, 0, 1, 2, 3]\n"
     ]
    }
   ],
   "source": [
    "print(a*3)"
   ]
  },
  {
   "cell_type": "code",
   "execution_count": 73,
   "id": "f6e4a6be-9766-45d1-bebc-c32c718156df",
   "metadata": {},
   "outputs": [
    {
     "data": {
      "text/plain": [
       "3"
      ]
     },
     "execution_count": 73,
     "metadata": {},
     "output_type": "execute_result"
    }
   ],
   "source": [
    "#max,min,sum,len,append,insert,index,remove,sort\n",
    "max(a)"
   ]
  },
  {
   "cell_type": "code",
   "execution_count": 82,
   "id": "528fd288-550d-491c-a8d1-02fcc9e45112",
   "metadata": {
    "scrolled": true,
    "tags": []
   },
   "outputs": [
    {
     "data": {
      "text/plain": [
       "['__add__',\n",
       " '__class__',\n",
       " '__contains__',\n",
       " '__delattr__',\n",
       " '__delitem__',\n",
       " '__dir__',\n",
       " '__doc__',\n",
       " '__eq__',\n",
       " '__format__',\n",
       " '__ge__',\n",
       " '__getattribute__',\n",
       " '__getitem__',\n",
       " '__gt__',\n",
       " '__hash__',\n",
       " '__iadd__',\n",
       " '__imul__',\n",
       " '__init__',\n",
       " '__init_subclass__',\n",
       " '__iter__',\n",
       " '__le__',\n",
       " '__len__',\n",
       " '__lt__',\n",
       " '__mul__',\n",
       " '__ne__',\n",
       " '__new__',\n",
       " '__reduce__',\n",
       " '__reduce_ex__',\n",
       " '__repr__',\n",
       " '__reversed__',\n",
       " '__rmul__',\n",
       " '__setattr__',\n",
       " '__setitem__',\n",
       " '__sizeof__',\n",
       " '__str__',\n",
       " '__subclasshook__',\n",
       " 'append',\n",
       " 'clear',\n",
       " 'copy',\n",
       " 'count',\n",
       " 'extend',\n",
       " 'index',\n",
       " 'insert',\n",
       " 'pop',\n",
       " 'remove',\n",
       " 'reverse',\n",
       " 'sort']"
      ]
     },
     "execution_count": 82,
     "metadata": {},
     "output_type": "execute_result"
    }
   ],
   "source": [
    "dir(list)"
   ]
  },
  {
   "cell_type": "code",
   "execution_count": 74,
   "id": "932ac7f4-63b0-4fa8-a650-9097d82dd719",
   "metadata": {},
   "outputs": [],
   "source": [
    "a.append(1)"
   ]
  },
  {
   "cell_type": "code",
   "execution_count": 75,
   "id": "1559068a-d1e6-4180-8603-a578d63248c0",
   "metadata": {},
   "outputs": [
    {
     "data": {
      "text/plain": [
       "[0, 1, 2, 3, 1]"
      ]
     },
     "execution_count": 75,
     "metadata": {},
     "output_type": "execute_result"
    }
   ],
   "source": [
    "a"
   ]
  },
  {
   "cell_type": "code",
   "execution_count": 76,
   "id": "fe13e5f7-1d00-48ad-a3f8-132125bd4ecc",
   "metadata": {},
   "outputs": [],
   "source": [
    "a.sort()"
   ]
  },
  {
   "cell_type": "code",
   "execution_count": 79,
   "id": "5bd564c1-8391-481b-a719-00bb8b3db6de",
   "metadata": {},
   "outputs": [],
   "source": [
    "a.sort(reverse=True)"
   ]
  },
  {
   "cell_type": "code",
   "execution_count": 81,
   "id": "7f9b8eac-893c-40fe-b318-c808bcf1da29",
   "metadata": {},
   "outputs": [
    {
     "data": {
      "text/plain": [
       "2"
      ]
     },
     "execution_count": 81,
     "metadata": {},
     "output_type": "execute_result"
    }
   ],
   "source": [
    "a.index(1)"
   ]
  },
  {
   "cell_type": "code",
   "execution_count": 83,
   "id": "536b81f8-2f4a-462d-acba-683feb6c54c5",
   "metadata": {},
   "outputs": [],
   "source": [
    "a.insert(2,'test')\n",
    "a.pop(2)"
   ]
  },
  {
   "cell_type": "code",
   "execution_count": 85,
   "id": "9826aa97-c65b-47f8-8e6f-aa6e900e5a09",
   "metadata": {},
   "outputs": [],
   "source": [
    "#tuple\n",
    "tuple_1=(0,1,2,3,4)"
   ]
  },
  {
   "cell_type": "code",
   "execution_count": null,
   "id": "9a8ce645-91e2-4953-a819-23bc824a36bf",
   "metadata": {},
   "outputs": [],
   "source": [
    "tuple_1.append(1)"
   ]
  },
  {
   "cell_type": "code",
   "execution_count": 86,
   "id": "638b9266-4d0e-478a-85be-54bd9f3b247d",
   "metadata": {},
   "outputs": [],
   "source": [
    "#dictionary\n",
    "dic_1={'apple':0,'strawberry':2,'banana':5}"
   ]
  },
  {
   "cell_type": "code",
   "execution_count": 92,
   "id": "98df284e-1979-4ea9-ab29-1051c23e7463",
   "metadata": {},
   "outputs": [
    {
     "name": "stdout",
     "output_type": "stream",
     "text": [
      "0\n",
      "12\n"
     ]
    }
   ],
   "source": [
    "print(dic_1.get('apple',3))\n",
    "print(dic_1.get('watermelon',12))"
   ]
  },
  {
   "cell_type": "code",
   "execution_count": 93,
   "id": "9345fbc6-6324-42d6-86a3-3b3801a58514",
   "metadata": {},
   "outputs": [],
   "source": [
    "#len,keys,values,fromkeys\n",
    "new_dict=dict.fromkeys(['apple','banana'],[2,2])"
   ]
  },
  {
   "cell_type": "code",
   "execution_count": 95,
   "id": "b4ec75db-ae22-4ef7-8bee-c127fea35d8a",
   "metadata": {},
   "outputs": [],
   "source": [
    "#set\n",
    "set_1={1,2,3,3}"
   ]
  },
  {
   "cell_type": "code",
   "execution_count": 96,
   "id": "620fa184-5f4c-4d2c-9ce6-a9da9cb02069",
   "metadata": {},
   "outputs": [
    {
     "data": {
      "text/plain": [
       "{1, 2, 3}"
      ]
     },
     "execution_count": 96,
     "metadata": {},
     "output_type": "execute_result"
    }
   ],
   "source": [
    "set_1"
   ]
  },
  {
   "cell_type": "code",
   "execution_count": 99,
   "id": "4bb524ee-923d-4583-aa29-7d679ebca8c1",
   "metadata": {},
   "outputs": [],
   "source": [
    "#another way of creating set?"
   ]
  },
  {
   "cell_type": "code",
   "execution_count": null,
   "id": "78d655fc-7c82-435d-8032-9264366cd4d4",
   "metadata": {},
   "outputs": [],
   "source": [
    "#&,|,-,=,!=,in,not in"
   ]
  },
  {
   "cell_type": "code",
   "execution_count": 100,
   "id": "04e483cb-4a88-4ed2-b91f-21cf97f37603",
   "metadata": {},
   "outputs": [
    {
     "data": {
      "text/plain": [
       "{2, 3, 4}"
      ]
     },
     "execution_count": 100,
     "metadata": {},
     "output_type": "execute_result"
    }
   ],
   "source": [
    "a={1,2,3,4}\n",
    "b={2,3,4,5}\n",
    "a&b"
   ]
  },
  {
   "cell_type": "code",
   "execution_count": 104,
   "id": "be269206-f1a1-4654-b3a1-a017cbba607f",
   "metadata": {},
   "outputs": [],
   "source": [
    "#add,clear"
   ]
  },
  {
   "cell_type": "code",
   "execution_count": 107,
   "id": "6077f668-3255-4b09-9135-71fa4c55b581",
   "metadata": {},
   "outputs": [
    {
     "data": {
      "text/plain": [
       "[1, 2, 3, 4]"
      ]
     },
     "execution_count": 107,
     "metadata": {},
     "output_type": "execute_result"
    }
   ],
   "source": [
    "#max,min,len,sorted,sum\n",
    "sorted(a)"
   ]
  },
  {
   "cell_type": "code",
   "execution_count": null,
   "id": "d343a87e-a2d6-4f4d-88a5-821b366a4e6c",
   "metadata": {},
   "outputs": [],
   "source": [
    "#Create a list of your favorite fruits. Add a new fruit to the list, remove the first fruit, and print the updated list."
   ]
  },
  {
   "cell_type": "code",
   "execution_count": null,
   "id": "637d2813-44ad-42c4-9411-2bd0f637d418",
   "metadata": {},
   "outputs": [],
   "source": [
    "#Write a program that takes a list of numbers and prints the largest and smallest number in the list."
   ]
  },
  {
   "cell_type": "code",
   "execution_count": null,
   "id": "1f1e9b85-b116-40b5-8537-66a600a64670",
   "metadata": {},
   "outputs": [],
   "source": [
    "#Create a tuple with the names of five cities. Attempt to change the second city to a different one and observe what happens. Explain why this behavior occurs."
   ]
  },
  {
   "cell_type": "code",
   "execution_count": null,
   "id": "42ed5207-6ad3-4787-bef7-62ef80559001",
   "metadata": {},
   "outputs": [],
   "source": [
    "#Create a dictionary that maps three countries to their capitals. Add another country-capital pair to the dictionary and print the updated dictionary."
   ]
  },
  {
   "cell_type": "code",
   "execution_count": null,
   "id": "50b32619-1e22-4bfb-a38b-8e6a669d0a2d",
   "metadata": {},
   "outputs": [],
   "source": [
    "#Write a program that takes a key as input and prints the corresponding value from a predefined dictionary. If the key does not exist, print \"Key not found\"."
   ]
  },
  {
   "cell_type": "code",
   "execution_count": null,
   "id": "765a11c8-795e-47bb-a70d-3915e2905ce0",
   "metadata": {},
   "outputs": [],
   "source": [
    "#Create two sets of numbers. Perform and print the union, intersection, difference, and symmetric difference of these sets."
   ]
  },
  {
   "cell_type": "markdown",
   "id": "bfa4abed-e0c2-42cd-b570-eb28257608c4",
   "metadata": {},
   "source": [
    "sec 4. If-else"
   ]
  },
  {
   "cell_type": "code",
   "execution_count": 108,
   "id": "aaf14323-f6f4-411a-8408-3e21494d9ad4",
   "metadata": {},
   "outputs": [
    {
     "name": "stdout",
     "output_type": "stream",
     "text": [
      "adult\n"
     ]
    }
   ],
   "source": [
    "age=20\n",
    "if age>18:\n",
    "    print('adult')"
   ]
  },
  {
   "cell_type": "code",
   "execution_count": null,
   "id": "855d2f2a-61dd-40ce-b9c2-4eb1683632f3",
   "metadata": {},
   "outputs": [],
   "source": [
    "age=70\n",
    "if age>50:\n",
    "    print('high')\n",
    "elif age>30:\n",
    "    print('medium\n",
    "')"
   ]
  }
 ],
 "metadata": {
  "kernelspec": {
   "display_name": "Python 3",
   "language": "python",
   "name": "python3"
  },
  "language_info": {
   "codemirror_mode": {
    "name": "ipython",
    "version": 3
   },
   "file_extension": ".py",
   "mimetype": "text/x-python",
   "name": "python",
   "nbconvert_exporter": "python",
   "pygments_lexer": "ipython3",
   "version": "3.8.8"
  }
 },
 "nbformat": 4,
 "nbformat_minor": 5
}
